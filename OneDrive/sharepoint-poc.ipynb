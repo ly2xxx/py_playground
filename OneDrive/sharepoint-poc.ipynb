{
 "cells": [
  {
   "cell_type": "markdown",
   "metadata": {},
   "source": [
    "## OneDrive\n"
   ]
  },
  {
   "cell_type": "code",
   "execution_count": null,
   "metadata": {},
   "outputs": [],
   "source": [
    "from O365 import Account\n",
    "import os\n",
    "\n",
    "def download_onedrive_folder(folder_path, local_path):\n",
    "    credentials = ('client_id', 'client_secret')\n",
    "    account = Account(credentials)\n",
    "    storage = account.storage()\n",
    "    drive = storage.get_default_drive()\n",
    "    \n",
    "    folder = drive.get_item_by_path(folder_path)\n",
    "    items = folder.get_items()\n",
    "    \n",
    "    os.makedirs(local_path, exist_ok=True)\n",
    "    \n",
    "    for item in items:\n",
    "        item.download(local_path)\n"
   ]
  },
  {
   "cell_type": "code",
   "execution_count": null,
   "metadata": {},
   "outputs": [],
   "source": [
    "download_onedrive_folder('Documents/MyFolder', './downloaded_folder')\n"
   ]
  },
  {
   "cell_type": "markdown",
   "metadata": {},
   "source": [
    "OneDrive download - not fully working"
   ]
  },
  {
   "cell_type": "code",
   "execution_count": null,
   "metadata": {},
   "outputs": [
    {
     "ename": "KeyError",
     "evalue": "'value'",
     "output_type": "error",
     "traceback": [
      "\u001b[1;31m---------------------------------------------------------------------------\u001b[0m",
      "\u001b[1;31mKeyError\u001b[0m                                  Traceback (most recent call last)",
      "Cell \u001b[1;32mIn[7], line 22\u001b[0m\n\u001b[0;32m     19\u001b[0m                 f\u001b[38;5;241m.\u001b[39mwrite(requests\u001b[38;5;241m.\u001b[39mget(download_url)\u001b[38;5;241m.\u001b[39mcontent)\n\u001b[0;32m     21\u001b[0m \u001b[38;5;66;03m# download_onedrive_folder('your.email@example.com', 'your_password', 'folder_id')\u001b[39;00m\n\u001b[1;32m---> 22\u001b[0m \u001b[43mdownload_onedrive_folder\u001b[49m\u001b[43m(\u001b[49m\u001b[38;5;124;43m'\u001b[39;49m\u001b[38;5;124;43mly2xxx@hotmail.com\u001b[39;49m\u001b[38;5;124;43m'\u001b[39;49m\u001b[43m,\u001b[49m\u001b[43m \u001b[49m\u001b[38;5;124;43m'\u001b[39;49m\u001b[38;5;124;43mMia0212l\u001b[39;49m\u001b[38;5;124;43m'\u001b[39;49m\u001b[43m,\u001b[49m\u001b[43m \u001b[49m\u001b[38;5;124;43m'\u001b[39;49m\u001b[38;5;124;43m1AB52731661A42E3\u001b[39;49m\u001b[38;5;132;43;01m%21s\u001b[39;49;00m\u001b[38;5;124;43mad94f9f03cc1483081283c6ea502dbb1\u001b[39;49m\u001b[38;5;124;43m'\u001b[39;49m\u001b[43m)\u001b[49m\n",
      "Cell \u001b[1;32mIn[7], line 15\u001b[0m, in \u001b[0;36mdownload_onedrive_folder\u001b[1;34m(email, password, folder_id)\u001b[0m\n\u001b[0;32m      9\u001b[0m response \u001b[38;5;241m=\u001b[39m requests\u001b[38;5;241m.\u001b[39mget(\n\u001b[0;32m     10\u001b[0m     \u001b[38;5;124mf\u001b[39m\u001b[38;5;124m\"\u001b[39m\u001b[38;5;132;01m{\u001b[39;00mbase_url\u001b[38;5;132;01m}\u001b[39;00m\u001b[38;5;124m/drive/items/\u001b[39m\u001b[38;5;132;01m{\u001b[39;00mfolder_id\u001b[38;5;132;01m}\u001b[39;00m\u001b[38;5;124m/children\u001b[39m\u001b[38;5;124m\"\u001b[39m,\n\u001b[0;32m     11\u001b[0m     auth\u001b[38;5;241m=\u001b[39mauth\n\u001b[0;32m     12\u001b[0m )\n\u001b[0;32m     14\u001b[0m \u001b[38;5;66;03m# Download each file\u001b[39;00m\n\u001b[1;32m---> 15\u001b[0m \u001b[38;5;28;01mfor\u001b[39;00m item \u001b[38;5;129;01min\u001b[39;00m \u001b[43mresponse\u001b[49m\u001b[38;5;241;43m.\u001b[39;49m\u001b[43mjson\u001b[49m\u001b[43m(\u001b[49m\u001b[43m)\u001b[49m\u001b[43m[\u001b[49m\u001b[38;5;124;43m'\u001b[39;49m\u001b[38;5;124;43mvalue\u001b[39;49m\u001b[38;5;124;43m'\u001b[39;49m\u001b[43m]\u001b[49m:\n\u001b[0;32m     16\u001b[0m     \u001b[38;5;28;01mif\u001b[39;00m \u001b[38;5;124m'\u001b[39m\u001b[38;5;124mfile\u001b[39m\u001b[38;5;124m'\u001b[39m \u001b[38;5;129;01min\u001b[39;00m item:\n\u001b[0;32m     17\u001b[0m         download_url \u001b[38;5;241m=\u001b[39m item[\u001b[38;5;124m'\u001b[39m\u001b[38;5;124m@microsoft.graph.downloadUrl\u001b[39m\u001b[38;5;124m'\u001b[39m]\n",
      "\u001b[1;31mKeyError\u001b[0m: 'value'"
     ]
    }
   ],
   "source": [
    "import requests\n",
    "from requests.auth import HTTPBasicAuth\n",
    "\n",
    "def download_onedrive_folder(email, password, folder_id):\n",
    "    auth = HTTPBasicAuth(email, password)\n",
    "    base_url = \"https://api.onedrive.com/v1.0\"\n",
    "    \n",
    "    # Get folder contents\n",
    "    response = requests.get(\n",
    "        f\"{base_url}/drive/items/{folder_id}/children\",\n",
    "        auth=auth\n",
    "    )\n",
    "    \n",
    "    # Download each file\n",
    "    for item in response.json()['value']:\n",
    "        if 'file' in item:\n",
    "            download_url = item['@microsoft.graph.downloadUrl']\n",
    "            with open(item['name'], 'wb') as f:\n",
    "                f.write(requests.get(download_url).content)\n",
    "\n",
    "# download_onedrive_folder('your.email@example.com', 'your_password', 'folder_id')\n"
   ]
  },
  {
   "cell_type": "markdown",
   "metadata": {},
   "source": [
    "Sharepoint download - not verified"
   ]
  },
  {
   "cell_type": "code",
   "execution_count": null,
   "metadata": {},
   "outputs": [],
   "source": [
    "import requests\n",
    "\n",
    "# Define the folder ID and your SharePoint base URL\n",
    "folder_id = 'your_folder_id'\n",
    "base_url = 'https://your-sharepoint-site.sharepoint.com'\n",
    "\n",
    "# Create the authentication headers\n",
    "headers = {\n",
    "    \"Authorization\": f\"Bearer {access_token}\",\n",
    "    \"Accept\": \"application/json;odata=verbose\"\n",
    "}\n",
    "\n",
    "# Send the GET request to get folder contents using SharePoint API V2\n",
    "response = requests.get(\n",
    "    f\"{base_url}/sites/your-site-id/_api/web/drive/items/{folder_id}/children\",\n",
    "    headers=headers,\n",
    ")"
   ]
  }
 ],
 "metadata": {
  "kernelspec": {
   "display_name": ".venv",
   "language": "python",
   "name": "python3"
  },
  "language_info": {
   "codemirror_mode": {
    "name": "ipython",
    "version": 3
   },
   "file_extension": ".py",
   "mimetype": "text/x-python",
   "name": "python",
   "nbconvert_exporter": "python",
   "pygments_lexer": "ipython3",
   "version": "3.11.6"
  }
 },
 "nbformat": 4,
 "nbformat_minor": 2
}
