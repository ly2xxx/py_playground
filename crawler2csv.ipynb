{
 "cells": [
  {
   "cell_type": "markdown",
   "metadata": {},
   "source": [
    "https://www.zenrows.com/blog/web-crawler-python#initial-crawling-script"
   ]
  },
  {
   "cell_type": "code",
   "execution_count": null,
   "metadata": {},
   "outputs": [],
   "source": [
    "import requests\n",
    "from bs4 import BeautifulSoup\n",
    "import csv\n",
    "\n",
    "# initialize the data structure where to\n",
    "# store the scraped data\n",
    "products = []\n",
    "\n",
    "# initialize the list of discovered urls\n",
    "# with the first page to visit\n",
    "urls = [\"https://scrapeme.live/shop/\"]\n",
    "\n",
    "# until all pages have been visited\n",
    "while len(urls) != 0:\n",
    "    # get the page to visit from the list\n",
    "    current_url = urls.pop()\n",
    "\n",
    "    # crawling logic\n",
    "    response = requests.get(current_url)\n",
    "    soup = BeautifulSoup(response.content, \"html.parser\")\n",
    "\n",
    "    link_elements = soup.select(\"a[href]\")\n",
    "\n",
    "    for link_element in link_elements:\n",
    "        url = link_element[\"href\"]\n",
    "        if \"https://scrapeme.live/shop\" in url:\n",
    "            urls.append(url)\n",
    "\n",
    "    # if current_url is product page\n",
    "    product = {}\n",
    "    product[\"url\"] = current_url\n",
    "    product[\"image\"] = soup.select_one(\".wp-post-image\")[\"src\"]\n",
    "    # product[\"name\"] = soup.select_one(\".product_title\").text()\n",
    "    product[\"price\"] = soup.select_one(\".price\")\n",
    "    print(product)\n",
    "    # products.append(product)\n",
    "    break\n",
    "    \n",
    "\n",
    "# initialize the CSV output file\n",
    "with open('products.csv', 'w') as csv_file:\n",
    "    writer = csv.writer(csv_file)\n",
    "\n",
    "    # populating the CSV\n",
    "    for product in products:\n",
    "        writer.writerow(product.values())"
   ]
  }
 ],
 "metadata": {
  "language_info": {
   "name": "python"
  }
 },
 "nbformat": 4,
 "nbformat_minor": 2
}
