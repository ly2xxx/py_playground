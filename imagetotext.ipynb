{
 "cells": [
  {
   "cell_type": "code",
   "execution_count": null,
   "metadata": {},
   "outputs": [],
   "source": []
  },
  {
   "cell_type": "markdown",
   "metadata": {},
   "source": [
    "https://github.com/bnsreenu/python_for_microscopists\n",
    "https://github.com/JaidedAI/EasyOCR"
   ]
  }
 ],
 "metadata": {
  "kernelspec": {
   "display_name": ".venvcpu",
   "language": "python",
   "name": "python3"
  },
  "language_info": {
   "name": "python",
   "version": "3.11.6"
  }
 },
 "nbformat": 4,
 "nbformat_minor": 2
}
