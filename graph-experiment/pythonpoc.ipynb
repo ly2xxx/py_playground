{
 "cells": [
  {
   "cell_type": "markdown",
   "metadata": {},
   "source": [
    "# demo dynamic execution"
   ]
  },
  {
   "cell_type": "code",
   "execution_count": 1,
   "metadata": {},
   "outputs": [
    {
     "name": "stdout",
     "output_type": "stream",
     "text": [
      "Created user agents: ['Mozilla/5.0 (Windows NT 10.0; Win64; x64) Chrome/91.0']\n",
      "Price category for £75.99: Mid-range item\n",
      "Loaded scraping configuration: {'delay': 2, 'max_pages': 5, 'target_discount': 0.6, 'base_url': 'https://www.amazon.co.uk/s?k=electronics&i=warehouse-deals&page='}\n"
     ]
    }
   ],
   "source": [
    "def demonstrate_exec():\n",
    "    # Example 1: Basic variable creation and printing\n",
    "    code1 = \"\"\"\n",
    "user_agents = ['Mozilla/5.0 (Windows NT 10.0; Win64; x64) Chrome/91.0']\n",
    "print(f\"Created user agents: {user_agents}\")\n",
    "\"\"\"\n",
    "    exec(code1)\n",
    "\n",
    "    # Example 2: Dynamic function creation\n",
    "    code2 = \"\"\"\n",
    "def dynamic_price_checker(price_str):\n",
    "    try:\n",
    "        price = float(price_str[1:])  # Remove currency symbol and convert to float\n",
    "        if price < 50.0:\n",
    "            return \"Budget item\"\n",
    "        elif price < 100.0:\n",
    "            return \"Mid-range item\"\n",
    "        else:\n",
    "            return \"Premium item\"\n",
    "    except:\n",
    "        return \"Invalid price format\"\n",
    "\n",
    "test_price = \"£75.99\"\n",
    "result = dynamic_price_checker(test_price)\n",
    "print(f\"Price category for {test_price}: {result}\")\n",
    "\"\"\"\n",
    "    exec(code2)\n",
    "\n",
    "    # Example 3: Dynamic web scraping configuration\n",
    "    code3 = \"\"\"\n",
    "scraping_config = {\n",
    "    'delay': 2,\n",
    "    'max_pages': 5,\n",
    "    'target_discount': 0.6,\n",
    "    'base_url': 'https://www.amazon.co.uk/s?k=electronics&i=warehouse-deals&page='\n",
    "}\n",
    "print(f\"Loaded scraping configuration: {scraping_config}\")\n",
    "\"\"\"\n",
    "    exec(code3)\n",
    "\n",
    "\n",
    "demonstrate_exec()"
   ]
  },
  {
   "cell_type": "code",
   "execution_count": null,
   "metadata": {},
   "outputs": [
    {
     "ename": "SyntaxError",
     "evalue": "unmatched ')' (<string>, line 2)",
     "output_type": "error",
     "traceback": [
      "Traceback \u001b[1;36m(most recent call last)\u001b[0m:\n",
      "\u001b[0m  File \u001b[0;32md:\\code\\py_playground\\.venv\\Lib\\site-packages\\IPython\\core\\interactiveshell.py:3577\u001b[0m in \u001b[0;35mrun_code\u001b[0m\n    exec(code_obj, self.user_global_ns, self.user_ns)\u001b[0m\n",
      "\u001b[0m  Cell \u001b[0;32mIn[2], line 10\u001b[0m\n    demonstrate_local_method_exec()\u001b[0m\n",
      "\u001b[1;36m  Cell \u001b[1;32mIn[2], line 6\u001b[1;36m in \u001b[1;35mdemonstrate_local_method_exec\u001b[1;36m\n\u001b[1;33m    exec(code, None, local_scope)\u001b[1;36m\n",
      "\u001b[1;36m  File \u001b[1;32m<string>:2\u001b[1;36m\u001b[0m\n\u001b[1;33m    return f\"Hello {name}\")\u001b[0m\n\u001b[1;37m                          ^\u001b[0m\n\u001b[1;31mSyntaxError\u001b[0m\u001b[1;31m:\u001b[0m unmatched ')'\n"
     ]
    }
   ],
   "source": [
    "def demonstrate_local_method_exec():\n",
    "    code = \"\"\"def greet(name):\n",
    "                return f\"Hello {name}\"\n",
    "            \"\"\"\n",
    "    local_scope = {}\n",
    "    exec(code, None, local_scope)\n",
    "    greet = local_scope['greet']\n",
    "    print(greet('Alice'))\n",
    "\n",
    "demonstrate_local_method_exec()"
   ]
  }
 ],
 "metadata": {
  "kernelspec": {
   "display_name": ".venv",
   "language": "python",
   "name": "python3"
  },
  "language_info": {
   "codemirror_mode": {
    "name": "ipython",
    "version": 3
   },
   "file_extension": ".py",
   "mimetype": "text/x-python",
   "name": "python",
   "nbconvert_exporter": "python",
   "pygments_lexer": "ipython3",
   "version": "3.11.6"
  }
 },
 "nbformat": 4,
 "nbformat_minor": 2
}
